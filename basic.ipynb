{
  "cells": [
    {
      "cell_type": "code",
      "execution_count": null,
      "id": "3c28a941",
      "metadata": {
        "id": "3c28a941"
      },
      "outputs": [],
      "source": [
        "import math"
      ]
    },
    {
      "cell_type": "code",
      "execution_count": null,
      "id": "b1dfffc7",
      "metadata": {
        "id": "b1dfffc7"
      },
      "outputs": [],
      "source": [
        "#Q1"
      ]
    },
    {
      "cell_type": "code",
      "execution_count": null,
      "id": "2095db1d",
      "metadata": {
        "id": "2095db1d",
        "outputId": "c4842205-13e7-4775-be00-f658ae4a210b"
      },
      "outputs": [
        {
          "data": {
            "text/plain": [
              "['o', 'l', 'l', 'e', 'h']"
            ]
          },
          "execution_count": 7,
          "metadata": {},
          "output_type": "execute_result"
        }
      ],
      "source": [
        "def rev():\n",
        "    s=[\"h\",\"e\",\"l\",\"l\",\"o\"]\n",
        "    s.reverse()\n",
        "    return s\n",
        "rev()"
      ]
    },
    {
      "cell_type": "code",
      "execution_count": null,
      "id": "d8236a2d",
      "metadata": {
        "id": "d8236a2d"
      },
      "outputs": [],
      "source": [
        "#Q2"
      ]
    },
    {
      "cell_type": "code",
      "execution_count": null,
      "id": "79960b03",
      "metadata": {
        "id": "79960b03",
        "outputId": "8bafc780-1b17-4dce-d1cf-7d784abd821d",
        "colab": {
          "base_uri": "https://localhost:8080/"
        }
      },
      "outputs": [
        {
          "output_type": "stream",
          "name": "stdout",
          "text": [
            "Enter stringtaahaat\n",
            "It is palindrome\n",
            "taahaat\n"
          ]
        }
      ],
      "source": [
        "s=input(\"Enter string\")\n",
        "s=s.replace(',',\"\")\n",
        "s=s.replace('.',\"\")\n",
        "s=s.replace(':',\"\")\n",
        "s=s.replace(' ',\"\")\n",
        "s=s.casefold()\n",
        "s1=len(s)\n",
        "if s==s[::-1]:\n",
        "    print(\"It is palindrome\")\n",
        "else:\n",
        "        print(\"It is Not palindrome\")\n",
        "\n",
        "print(s)"
      ]
    },
    {
      "cell_type": "code",
      "execution_count": null,
      "id": "1cc0786e",
      "metadata": {
        "id": "1cc0786e"
      },
      "outputs": [],
      "source": [
        "#Q3"
      ]
    },
    {
      "cell_type": "code",
      "execution_count": null,
      "id": "c3df4bab",
      "metadata": {
        "id": "c3df4bab"
      },
      "outputs": [],
      "source": [
        "s=int(input(\"Number\"))\n",
        "\n",
        "s=int(s**(1/2))\n",
        "print(s)"
      ]
    },
    {
      "cell_type": "code",
      "execution_count": null,
      "id": "f7981053",
      "metadata": {
        "id": "f7981053"
      },
      "outputs": [],
      "source": []
    },
    {
      "cell_type": "code",
      "execution_count": null,
      "id": "9b62cc6b",
      "metadata": {
        "id": "9b62cc6b"
      },
      "outputs": [],
      "source": []
    },
    {
      "cell_type": "code",
      "execution_count": null,
      "id": "8279c929",
      "metadata": {
        "id": "8279c929"
      },
      "outputs": [],
      "source": []
    },
    {
      "cell_type": "code",
      "execution_count": null,
      "id": "ec45be02",
      "metadata": {
        "id": "ec45be02",
        "outputId": "72439d4a-9219-4657-f6f5-2f0d02c51942"
      },
      "outputs": [
        {
          "name": "stdout",
          "output_type": "stream",
          "text": [
            "Enter stringIamtaha\n",
            "aamI\n"
          ]
        }
      ],
      "source": [
        "s=input(\"Enter string\")\n",
        "s=s[::-2]\n",
        "print(s)"
      ]
    },
    {
      "cell_type": "code",
      "execution_count": null,
      "id": "06fad6ba",
      "metadata": {
        "id": "06fad6ba"
      },
      "outputs": [],
      "source": []
    }
  ],
  "metadata": {
    "kernelspec": {
      "display_name": "Python 3",
      "language": "python",
      "name": "python3"
    },
    "language_info": {
      "codemirror_mode": {
        "name": "ipython",
        "version": 3
      },
      "file_extension": ".py",
      "mimetype": "text/x-python",
      "name": "python",
      "nbconvert_exporter": "python",
      "pygments_lexer": "ipython3",
      "version": "3.8.8"
    },
    "colab": {
      "provenance": []
    }
  },
  "nbformat": 4,
  "nbformat_minor": 5
}