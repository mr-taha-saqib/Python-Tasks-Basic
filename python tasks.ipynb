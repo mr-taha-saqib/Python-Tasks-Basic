{
  "cells": [
    {
      "cell_type": "code",
      "execution_count": null,
      "metadata": {
        "id": "l17iL1VrpqtU"
      },
      "outputs": [],
      "source": [
        "import math"
      ]
    },
    {
      "cell_type": "code",
      "execution_count": null,
      "metadata": {
        "id": "-AUR3YT0qao2"
      },
      "outputs": [],
      "source": [
        "#Task 1"
      ]
    },
    {
      "cell_type": "code",
      "execution_count": null,
      "metadata": {
        "colab": {
          "base_uri": "https://localhost:8080/"
        },
        "id": "O_85SyF510CC",
        "outputId": "2ac983ce-040f-43de-84ba-ad8cafba6b83"
      },
      "outputs": [
        {
          "output_type": "stream",
          "name": "stdout",
          "text": [
            "Enter the number of rows 4\n",
            "* \n",
            "\n",
            "* * \n",
            "\n",
            "* * * \n",
            "\n",
            "* * * * \n",
            "\n"
          ]
        }
      ],
      "source": [
        "r = int(input(\"Enter the number of rows \"))\n",
        "for i in range(r):\n",
        "    for j in range(i+1):\n",
        "        print(\"* \", end=\"\")\n",
        "    print(\"\\n\")\n",
        "\n"
      ]
    },
    {
      "cell_type": "code",
      "execution_count": null,
      "metadata": {
        "colab": {
          "base_uri": "https://localhost:8080/"
        },
        "id": "LnHkEzyl7KMc",
        "outputId": "0cc68d8b-1e94-4c91-fd13-3fecb13be2b7"
      },
      "outputs": [
        {
          "output_type": "stream",
          "name": "stdout",
          "text": [
            "Enter rows: 5\n",
            "Enter columns: 5\n",
            "Rectangle: \n",
            "*  *  *  *  *  \n",
            "*  *  *  *  *  \n",
            "*  *  *  *  *  \n",
            "*  *  *  *  *  \n",
            "*  *  *  *  *  \n"
          ]
        }
      ],
      "source": [
        "\n",
        "r = int(input(\"Enter rows: \"))\n",
        "c = int(input(\"Enter columns: \"))\n",
        "\n",
        "print(\"Rectangle: \")\n",
        "for i in range(r):\n",
        "    for j in range(c):\n",
        "        print('*', end = '  ')\n",
        "    print()"
      ]
    },
    {
      "cell_type": "code",
      "execution_count": null,
      "metadata": {
        "id": "DLe1Zq611z67"
      },
      "outputs": [],
      "source": [
        "#Task 2(A)"
      ]
    },
    {
      "cell_type": "code",
      "execution_count": null,
      "metadata": {
        "colab": {
          "base_uri": "https://localhost:8080/"
        },
        "id": "i1Y5JRmz1zxf",
        "outputId": "2319a696-10de-4e18-b83d-347b5e87246a"
      },
      "outputs": [
        {
          "output_type": "stream",
          "name": "stdout",
          "text": [
            "{'brand': 'Lambo', 'model': 'Ferrari', 'year': 1990}\n",
            "Ferrari\n",
            "Ferrari\n",
            "{'brand': 'Lambo', 'model': 'Ferrari', 'year': 2018}\n"
          ]
        },
        {
          "output_type": "execute_result",
          "data": {
            "text/plain": [
              "3"
            ]
          },
          "metadata": {},
          "execution_count": 85
        }
      ],
      "source": [
        "dict = {\n",
        "  \"brand\": \"Lambo\",\n",
        "  \"model\": \"Ferrari\",\n",
        "  \"year\": 1990\n",
        "}\n",
        "print(dict)\n",
        "x = dict[\"model\"]\n",
        "print(x)\n",
        "y = dict.get(\"model\")\n",
        "print(y)\n",
        "dict[\"year\"] = 2018\n",
        "print(dict)\n",
        "len(dict)"
      ]
    },
    {
      "cell_type": "code",
      "execution_count": null,
      "metadata": {
        "id": "_s0E-eGq_swb"
      },
      "outputs": [],
      "source": [
        "#Task 2(B)"
      ]
    },
    {
      "cell_type": "code",
      "execution_count": null,
      "metadata": {
        "colab": {
          "base_uri": "https://localhost:8080/"
        },
        "id": "HFmNQSKJ_uSM",
        "outputId": "95b0d0be-989e-4ca0-ddd6-f30c195f2f80"
      },
      "outputs": [
        {
          "output_type": "stream",
          "name": "stdout",
          "text": [
            "('strawberry', 'banana', 'peach', 'cherry')\n",
            "banana\n",
            "Yes,banana is available\n"
          ]
        },
        {
          "output_type": "execute_result",
          "data": {
            "text/plain": [
              "4"
            ]
          },
          "metadata": {},
          "execution_count": 87
        }
      ],
      "source": [
        "tuple = (\"strawberry\", \"banana\", \"peach\",\"cherry\")\n",
        "print(tuple)\n",
        "print(tuple[1])\n",
        "\n",
        "if \"banana\" in tuple:\n",
        "  print(\"Yes,banana is available\")\n",
        "\n",
        "len(tuple)\n",
        "\n"
      ]
    },
    {
      "cell_type": "code",
      "execution_count": null,
      "metadata": {
        "id": "Nt0dbePYqalc"
      },
      "outputs": [],
      "source": [
        "#Task 3"
      ]
    },
    {
      "cell_type": "code",
      "execution_count": null,
      "metadata": {
        "colab": {
          "base_uri": "https://localhost:8080/"
        },
        "id": "mrKMv2SQqai-",
        "outputId": "4543fd92-c7fa-479a-9c63-320ffa65418b"
      },
      "outputs": [
        {
          "output_type": "stream",
          "name": "stdout",
          "text": [
            "Height: 2\n",
            "Radius: 6\n",
            "Volume is : 226.07999999999998\n"
          ]
        }
      ],
      "source": [
        "h = float(input(\"Height: \"))\n",
        "r = float(input(\"Radius: \"))\n",
        "pi=3.14\n",
        "vol=pi*r*r*h\n",
        "print (\"Volume is :\",vol)"
      ]
    },
    {
      "cell_type": "code",
      "execution_count": null,
      "metadata": {
        "id": "2xd20Dowqagh"
      },
      "outputs": [],
      "source": [
        "#Task 4"
      ]
    },
    {
      "cell_type": "code",
      "execution_count": null,
      "metadata": {
        "colab": {
          "base_uri": "https://localhost:8080/"
        },
        "id": "wGs6H9Bmqadi",
        "outputId": "a922bc84-ce60-404d-cedb-03b831de72c8"
      },
      "outputs": [
        {
          "output_type": "stream",
          "name": "stdout",
          "text": [
            "This task performs 4 operations \n",
            "1.Addition\n",
            "2.Subtraction\n",
            "3.Multiplication\n",
            "4.Division\n",
            "---------------------------\n",
            "Enter 1st num2\n",
            "Enter 2nd num3\n",
            "Enter operator +,-,*,/+\n",
            "5\n"
          ]
        }
      ],
      "source": [
        "print(\"This task performs 4 operations \")\n",
        "print(\"1.Addition\")\n",
        "print(\"2.Subtraction\")\n",
        "print(\"3.Multiplication\")\n",
        "print(\"4.Division\")\n",
        "print(\"---------------------------\")\n",
        "a=input(\"Enter 1st num\")\n",
        "b=input(\"Enter 2nd num\")\n",
        "op=input(\"Enter operator +,-,*,/\")\n",
        "a=int(a)\n",
        "b=int(b)\n",
        "if op==\"+\":\n",
        "  print(a+b)\n",
        "elif op==\"-\":\n",
        "  print(a-b)\n",
        "elif op==\"*\":\n",
        "  print(a*b)\n",
        "elif op==\"/\":\n",
        "  print(a/b)\n",
        "else:\n",
        "  print(\"invalid operator\")\n"
      ]
    },
    {
      "cell_type": "code",
      "execution_count": null,
      "metadata": {
        "id": "jyvyTbWmqaVV"
      },
      "outputs": [],
      "source": [
        "#Task 5"
      ]
    },
    {
      "cell_type": "code",
      "execution_count": null,
      "metadata": {
        "colab": {
          "base_uri": "https://localhost:8080/"
        },
        "id": "9_3FYt-uqZBe",
        "outputId": "fd2de904-06f6-4e7d-9043-3a1f3f3838df"
      },
      "outputs": [
        {
          "output_type": "stream",
          "name": "stdout",
          "text": [
            "Enter stringhbhjb\n",
            "It is Not palindrome\n",
            "hbhjb\n"
          ]
        }
      ],
      "source": [
        "s=input(\"Enter string\")\n",
        "s=s.replace(',',\"\")\n",
        "s=s.replace('.',\"\")\n",
        "s=s.replace(':',\"\")\n",
        "s=s.replace(' ',\"\")\n",
        "s=s.casefold()\n",
        "s1=len(s)\n",
        "if s==s[::-1]:\n",
        "    print(\"It is palindrome\")\n",
        "else:\n",
        "        print(\"It is Not palindrome\")\n",
        "\n",
        "print(s)"
      ]
    },
    {
      "cell_type": "code",
      "execution_count": null,
      "metadata": {
        "id": "2GAtMHvkqpTM"
      },
      "outputs": [],
      "source": [
        "#Task 6"
      ]
    },
    {
      "cell_type": "code",
      "execution_count": null,
      "metadata": {
        "id": "qtrCZmuvqqwQ"
      },
      "outputs": [],
      "source": [
        "def fac():\n",
        "  print(\"enter num \")\n",
        "  num=int(input())\n",
        "  fact=1\n",
        "  if(num<0):\n",
        "    print(\"Not valid\")\n",
        "  elif(num==0):\n",
        "      print(1)\n",
        "  else:\n",
        "        for i in range(1,num+1):\n",
        "          fact*=i\n",
        "  print(fact)\n",
        "  return fact\n",
        "fac()\n"
      ]
    },
    {
      "cell_type": "code",
      "execution_count": null,
      "metadata": {
        "id": "3IMIDzFUxR7K"
      },
      "outputs": [],
      "source": [
        "#Task 7"
      ]
    },
    {
      "cell_type": "code",
      "execution_count": null,
      "metadata": {
        "colab": {
          "base_uri": "https://localhost:8080/"
        },
        "id": "fVWQ-himxaRg",
        "outputId": "70b93d36-891d-4d9d-ac64-36b4f923106b"
      },
      "outputs": [
        {
          "output_type": "stream",
          "name": "stdout",
          "text": [
            "None\n",
            "True\n"
          ]
        }
      ],
      "source": [
        "def lists(l1, l2):\n",
        "     res = False\n",
        "     for x in l1:\n",
        "         for y in l2:\n",
        "             if x == y:\n",
        "                 res = True\n",
        "                 return res\n",
        "\n",
        "print(lists([1,2,3,4], [6,7,8]))\n",
        "print(lists([1,2,3,4,5], [5,6,7,8]))\n"
      ]
    },
    {
      "cell_type": "code",
      "execution_count": null,
      "metadata": {
        "id": "RzA85WukxaMO"
      },
      "outputs": [],
      "source": [
        "#Task 8"
      ]
    },
    {
      "cell_type": "code",
      "execution_count": null,
      "metadata": {
        "colab": {
          "base_uri": "https://localhost:8080/"
        },
        "id": "ZPVg69H3xaJo",
        "outputId": "c185b86e-01dc-46a6-bb17-24180a1dc321"
      },
      "outputs": [
        {
          "output_type": "stream",
          "name": "stdout",
          "text": [
            "True\n",
            "True\n"
          ]
        }
      ],
      "source": [
        "a = {1, 2, 3, 4, 5, 6}\n",
        "b = {1, 2, 3}\n",
        "print(a.issuperset(b))\n",
        "print(a.issuperset(a))"
      ]
    }
  ],
  "metadata": {
    "colab": {
      "provenance": []
    },
    "kernelspec": {
      "display_name": "Python 3",
      "name": "python3"
    },
    "language_info": {
      "name": "python"
    }
  },
  "nbformat": 4,
  "nbformat_minor": 0
}